{
 "cells": [
  {
   "cell_type": "code",
   "execution_count": 49,
   "metadata": {},
   "outputs": [],
   "source": [
    "import numpy as np\n",
    "import matplotlib.pyplot as plt\n",
    "import scipy as scp"
   ]
  },
  {
   "cell_type": "code",
   "execution_count": 50,
   "metadata": {},
   "outputs": [],
   "source": [
    "#Part 1\n",
    "#Hyperparams\n",
    "N_freqs = 5\n",
    "N_x = 2\n",
    "N_y = 2\n",
    "T = 1\n",
    "N_tau = 10\n",
    "\n",
    "tau = np.linspace(0,1/T,N_tau,endpoint=False)\n",
    "Momega = 1.0j*2*np.pi*np.arange(N_freqs)\n",
    "\n",
    "S_imp = np.zeros(N_freqs)\n",
    "\n",
    "Energies = np.ones((N_x,N_y))\n",
    "\n",
    "\n",
    "\n",
    "\n",
    "\n",
    "\n"
   ]
  },
  {
   "cell_type": "code",
   "execution_count": 51,
   "metadata": {},
   "outputs": [
    {
     "name": "stdout",
     "output_type": "stream",
     "text": [
      "(2, 3)\n"
     ]
    }
   ],
   "source": [
    "a = np.array([1,2])\n",
    "b = np.array([3,4,5])\n",
    "print(np.tensordot(a,b,axes=0).shape)"
   ]
  },
  {
   "cell_type": "code",
   "execution_count": 52,
   "metadata": {},
   "outputs": [],
   "source": [
    "#Part 2\n",
    "\n",
    "epsrep = Energies.reshape((1,-1)).repeat(N_freqs,0)\n",
    "N_e = epsrep.shape[1]\n",
    "summand =Momega.reshape((-1,1)).repeat(N_e,1) - epsrep - S_imp.reshape((-1,1)).repeat(N_e,1)\n",
    "G_loc = np.sum(1/summand, axis=1)/(N_x*N_y)"
   ]
  },
  {
   "cell_type": "code",
   "execution_count": 53,
   "metadata": {},
   "outputs": [],
   "source": [
    "#Part 3\n",
    "\n",
    "G_0 = G_loc/(1+G_loc*S_imp)"
   ]
  },
  {
   "cell_type": "code",
   "execution_count": 54,
   "metadata": {},
   "outputs": [
    {
     "name": "stderr",
     "output_type": "stream",
     "text": [
      "/tmp/ipykernel_19597/2059387520.py:3: RuntimeWarning: divide by zero encountered in divide\n",
      "  Gp_0 = G_0 - 1/(Momega)\n",
      "/tmp/ipykernel_19597/2059387520.py:3: RuntimeWarning: invalid value encountered in divide\n",
      "  Gp_0 = G_0 - 1/(Momega)\n"
     ]
    }
   ],
   "source": [
    "#Part 4\n",
    "\n",
    "Gp_0 = G_0 - 1/(Momega)\n",
    "\n",
    "G_0_tau = 2*T*np.sum(np.real(Gp_0.reshape((-1,1)).repeat(N_tau,1)*np.exp(-np.tensordot(Momega,tau,axes=0))),axis=0) - np.sign(tau)/2"
   ]
  }
 ],
 "metadata": {
  "kernelspec": {
   "display_name": "m2icfp",
   "language": "python",
   "name": "python3"
  },
  "language_info": {
   "codemirror_mode": {
    "name": "ipython",
    "version": 3
   },
   "file_extension": ".py",
   "mimetype": "text/x-python",
   "name": "python",
   "nbconvert_exporter": "python",
   "pygments_lexer": "ipython3",
   "version": "3.12.4"
  }
 },
 "nbformat": 4,
 "nbformat_minor": 2
}
